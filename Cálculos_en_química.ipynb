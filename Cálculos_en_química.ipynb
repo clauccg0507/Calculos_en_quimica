{
  "nbformat": 4,
  "nbformat_minor": 0,
  "metadata": {
    "colab": {
      "provenance": [],
      "authorship_tag": "ABX9TyOcGYARi9eno42YPkHDFSPw",
      "include_colab_link": true
    },
    "kernelspec": {
      "name": "python3",
      "display_name": "Python 3"
    },
    "language_info": {
      "name": "python"
    }
  },
  "cells": [
    {
      "cell_type": "markdown",
      "metadata": {
        "id": "view-in-github",
        "colab_type": "text"
      },
      "source": [
        "<a href=\"https://colab.research.google.com/github/clauccg0507/Calculos_en_quimica/blob/main/C%C3%A1lculos_en_qu%C3%ADmica.ipynb\" target=\"_parent\"><img src=\"https://colab.research.google.com/assets/colab-badge.svg\" alt=\"Open In Colab\"/></a>"
      ]
    },
    {
      "cell_type": "code",
      "source": [
        "import math\n",
        "concentracion_iones_hidronio=0 #Concentración de iones hidronio en mol/L\n",
        "while concentracion_iones_hidronio<=0:\n",
        "  concentracion_iones_hidronio=float(input(\"Ingrese la concentración de iones H+:\"))\n",
        "  if concentracion_iones_hidronio<=0:\n",
        "    print(\"La concetración de iones H+ debe ser positiva, intente de nuevo.\")\n",
        "ph=math.log10(concentracion_iones_hidronio)*-1\n",
        "print(f\"El pH de la solución es de {ph}\")"
      ],
      "metadata": {
        "colab": {
          "base_uri": "https://localhost:8080/"
        },
        "id": "mMwoMSB85ZM8",
        "outputId": "c9c9436e-965a-4e3d-fad6-6060346948dd"
      },
      "execution_count": null,
      "outputs": [
        {
          "output_type": "stream",
          "name": "stdout",
          "text": [
            "Ingrese la concentración de iones H+:1E-7\n",
            "El pH de la solución es de 7.0\n"
          ]
        }
      ]
    },
    {
      "cell_type": "code",
      "source": [
        "#Definición de las variables\n",
        "masa_compuesto=0 #En gramos\n",
        "masa_molecular=0 #En g/mol\n",
        "while masa_compuesto<=0:\n",
        "  masa_compuesto=float(input(\"Ingrese la masa del compuesto en gramos: \"))\n",
        "  if masa_compuesto<=0:\n",
        "    print(\"La masa debe ser positiva, intente de nuevo.\")\n",
        "while masa_molecular<=0:\n",
        "  masa_molecular=float(input(\"Ingrese la masa molecular del compuesto en gramos por mol: \"))\n",
        "  if masa_molecular<=0:\n",
        "    print(\"La masa molecular debe ser positiva, intente de nuevo.\")\n",
        "moles=masa_compuesto/masa_molecular\n",
        "print(f\"El número de moles para el compuesto es de {moles} mol.\")"
      ],
      "metadata": {
        "id": "KiLkW3Pf7Apo",
        "colab": {
          "base_uri": "https://localhost:8080/"
        },
        "outputId": "91d58dc5-1dd2-4440-d035-43155ff65b4d"
      },
      "execution_count": null,
      "outputs": [
        {
          "output_type": "stream",
          "name": "stdout",
          "text": [
            "Ingrese la masa del compuesto en gramos: 18\n",
            "Ingrese la masa molecular del compuesto en gramos por mol: 18\n",
            "El número de moles para el compuesto es de 1.0 mol.\n"
          ]
        }
      ]
    },
    {
      "cell_type": "code",
      "source": [
        "numero_moles=0 #En moles\n",
        "volumen=0 #En litros\n",
        "while numero_moles<=0:\n",
        "  numero_moles=float(input(\"Ingrese el número de moles: \"))\n",
        "  if numero_moles<=0:\n",
        "    print(\"El número de moles debe ser positivo, intente de nuevo.\")\n",
        "while volumen<=0:\n",
        "  volumen=float(input(\"Ingrese el volumen en litros: \"))\n",
        "  if volumen<=0:\n",
        "    print(\"El volumen debe ser positivo, intente de nuevo.\")\n",
        "concentracion=numero_moles/volumen\n",
        "print(f\"La concentración del compuesto es de {concentracion} mol/L.\")"
      ],
      "metadata": {
        "colab": {
          "base_uri": "https://localhost:8080/"
        },
        "id": "KIBJrbi-ZaMu",
        "outputId": "12570dfe-350b-4a5c-b697-0c22e7ec9e24"
      },
      "execution_count": null,
      "outputs": [
        {
          "output_type": "stream",
          "name": "stdout",
          "text": [
            "Ingrese el número de moles: 2\n",
            "Ingrese el volumen en litros: 0.5\n",
            "La concentración del compuesto es de 4.0 mol/L.\n"
          ]
        }
      ]
    },
    {
      "cell_type": "code",
      "source": [
        "rendimiento_real=0\n",
        "rendimiento_teorico=0\n",
        "while rendimiento_real<=0:\n",
        "  rendimiento_real=float(input(\"Ingrese el rendimiento real de la reacción: \"))\n",
        "  if rendimiento_real<=0:\n",
        "    print(\"Ingrese un número positivo.\")\n",
        "while rendimiento_teorico<=0:\n",
        "  rendimiento_teorico=float(input(\"Ingrese el rendimiento teórico de la reacción: \"))\n",
        "  if rendimiento_teorico<=0:\n",
        "    print(\"Ingrese un número positivo.\")\n",
        "porcentaje_rendimiento=rendimiento_real*100/rendimiento_teorico\n",
        "print(f\"El rendimiento de la reacción es de {porcentaje_rendimiento}%.\")"
      ],
      "metadata": {
        "colab": {
          "base_uri": "https://localhost:8080/"
        },
        "id": "5chCoGXHjTkW",
        "outputId": "4d844db5-c377-4f23-f68a-c02b114a1b8c"
      },
      "execution_count": null,
      "outputs": [
        {
          "output_type": "stream",
          "name": "stdout",
          "text": [
            "Ingrese el rendimiento real de la reacción: 7.91E6\n",
            "Ingrese el rendimiento teórico de la reacción: 8.95E6\n",
            "El rendimiento de la reacción es de 88.37988826815642%.\n"
          ]
        }
      ]
    },
    {
      "cell_type": "code",
      "source": [
        "import math\n",
        "concentracion_acido_debil=0 #En mol/L\n",
        "concentracion_base_conjugada=0 #En mol/L\n",
        "pka=0 #Del ácido débil\n",
        "while concentracion_acido_debil<=0:\n",
        "  concentracion_acido_debil=float(input(\"Ingrese la concentración del ácido débil en mol/L: \"))\n",
        "  if concentracion_acido_debil<=0:\n",
        "    print(\"La concentración debe ser positiva, vuelva a intentar.\")\n",
        "while concentracion_base_conjugada<=0:\n",
        "  concentracion_base_conjugada=float(input(\"Ingrese la concentración de su base conjugada en mol/L: \"))\n",
        "  if concentracion_base_conjugada<=0:\n",
        "    print(\"La concentración debe ser positiva, vuelva a intentar.\")\n",
        "while pka<=0:\n",
        "  pka=float(input(\"Ingrese el pKa la especie ácida: \"))\n",
        "  if pka<=0:\n",
        "    print(\"El pKa debe ser mayor a cero, intente de nuevo.\")\n",
        "ph=pka+math.log10((concentracion_base_conjugada/concentracion_acido_debil))\n",
        "print(f\"El pH de la solución buffer es de {ph}\")"
      ],
      "metadata": {
        "colab": {
          "base_uri": "https://localhost:8080/"
        },
        "id": "FuxLuJEwmObb",
        "outputId": "14f2a2ae-8985-473e-d123-8fb4c748c009"
      },
      "execution_count": null,
      "outputs": [
        {
          "output_type": "stream",
          "name": "stdout",
          "text": [
            "Ingrese la concentración del ácido débil en mol/L: 0.5\n",
            "Ingrese la concentración de su base conjugada en mol/L: 0.5\n",
            "Ingrese el pKa la especie ácida: 4.76\n",
            "El pH de la solución buffer es de 4.76\n"
          ]
        }
      ]
    },
    {
      "cell_type": "code",
      "source": [
        "kps=0\n",
        "while kps<=0:\n",
        "  kps=float(input(\"Ingrese el valor de Kps: \"))\n",
        "  if kps<=0:\n",
        "    print(\"Ingrese un valor positivo\")\n",
        "  elif kps>1E-30:\n",
        "    print(\"El compuesto es soluble.\")\n",
        "  else:\n",
        "    print(\"El compuesto es poco soluble.\")"
      ],
      "metadata": {
        "colab": {
          "base_uri": "https://localhost:8080/"
        },
        "id": "amUB2Q9Wqikh",
        "outputId": "7db32ce6-3202-4c5d-f6a2-f2163cba752c"
      },
      "execution_count": null,
      "outputs": [
        {
          "output_type": "stream",
          "name": "stdout",
          "text": [
            "Ingrese el valor de Kps: 1E-29\n",
            "El compuesto es soluble.\n"
          ]
        }
      ]
    }
  ]
}